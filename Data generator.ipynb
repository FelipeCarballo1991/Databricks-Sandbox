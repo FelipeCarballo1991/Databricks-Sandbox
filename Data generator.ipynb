{
 "cells": [
  {
   "cell_type": "markdown",
   "metadata": {
    "application/vnd.databricks.v1+cell": {
     "cellMetadata": {
      "byteLimit": 2048000,
      "rowLimit": 10000
     },
     "inputWidgets": {},
     "nuid": "abd61cc2-e1ed-4443-9fbb-f16238b72720",
     "showTitle": false,
     "tableResultSettingsMap": {},
     "title": ""
    }
   },
   "source": [
    "### Data-Generator"
   ]
  },
  {
   "cell_type": "code",
   "execution_count": 0,
   "metadata": {
    "application/vnd.databricks.v1+cell": {
     "cellMetadata": {
      "byteLimit": 2048000,
      "rowLimit": 10000
     },
     "inputWidgets": {},
     "nuid": "736254a2-cc01-47e5-af55-5a4be16b1931",
     "showTitle": false,
     "tableResultSettingsMap": {},
     "title": ""
    }
   },
   "outputs": [],
   "source": [
    "from pyspark.sql import Row\n",
    "from pyspark.sql.functions import col, to_date\n",
    "from datetime import datetime, timedelta\n",
    "import random\n",
    "\n",
    "# Datos base\n",
    "clientes = ['Juan', 'María', 'Carlos', 'Ana', 'Lucía', \"Stephanie\", \"Felipe\", \"Fernando\", \"Diego\", \"Humberto\", \"Marcelo\", \"Roberto\", \"Pedro\"]\n",
    "productos = ['Zapato', 'Remera', 'Pantalón', 'Gorra', 'Bufanda', \"Medias\", \"Saco\", \"Smoking\", \"Zapatillas\", \"Pijama\"]\n",
    "\n",
    "# Intentar leer la tabla para obtener el último ID\n",
    "try:\n",
    "    df_existente = spark.table(\"workspace.default.ventas_delta\")\n",
    "    ultimo_id = df_existente.agg({\"venta_id\": \"max\"}).collect()[0][0]\n",
    "    if ultimo_id is None:\n",
    "        ultimo_id = 0\n",
    "except Exception:\n",
    "    # Si la tabla no existe\n",
    "    ultimo_id = 0\n",
    "\n",
    "# Generar nuevas filas\n",
    "fecha_inicio = datetime(2025, 1, 1)\n",
    "filas = []\n",
    "for i in range(100):\n",
    "    fila = Row(\n",
    "        venta_id = ultimo_id + i + 1,\n",
    "        cliente = random.choice(clientes),\n",
    "        producto = random.choice(productos),\n",
    "        cantidad = random.randint(1, 5),\n",
    "        precio_unitario = random.randint(100, 1000),\n",
    "        fecha_venta = fecha_inicio + timedelta(days=random.randint(0, 180))\n",
    "    )\n",
    "    filas.append(fila)\n",
    "\n",
    "df_spark = spark.createDataFrame(filas)\n",
    "\n",
    "# Formatear fecha\n",
    "df_spark = df_spark.withColumn(\"fecha_venta\", to_date(col(\"fecha_venta\")))\n",
    "\n",
    "# Guardar en Delta (append si ya existe)\n",
    "df_spark.write.format(\"delta\").mode(\"append\").saveAsTable(\"workspace.default.ventas_bronze\")\n",
    "\n",
    "print(f\"Se agregaron {len(filas)} filas nuevas. Último ID ahora: {ultimo_id + len(filas)}\")\n"
   ]
  }
 ],
 "metadata": {
  "application/vnd.databricks.v1+notebook": {
   "computePreferences": null,
   "dashboards": [],
   "environmentMetadata": {
    "base_environment": "",
    "environment_version": "2"
   },
   "inputWidgetPreferences": null,
   "language": "python",
   "notebookMetadata": {
    "pythonIndentUnit": 4
   },
   "notebookName": "Data generator",
   "widgets": {}
  },
  "language_info": {
   "name": "python"
  }
 },
 "nbformat": 4,
 "nbformat_minor": 0
}

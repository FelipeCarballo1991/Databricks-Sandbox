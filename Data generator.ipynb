{
 "cells": [
  {
   "cell_type": "markdown",
   "metadata": {
    "application/vnd.databricks.v1+cell": {
     "cellMetadata": {
      "byteLimit": 2048000,
      "rowLimit": 10000
     },
     "inputWidgets": {},
     "nuid": "abd61cc2-e1ed-4443-9fbb-f16238b72720",
     "showTitle": false,
     "tableResultSettingsMap": {},
     "title": ""
    }
   },
   "source": [
    "### Data-Generator"
   ]
  },
  {
   "cell_type": "code",
   "execution_count": 0,
   "metadata": {
    "application/vnd.databricks.v1+cell": {
     "cellMetadata": {
      "byteLimit": 2048000,
      "rowLimit": 10000
     },
     "inputWidgets": {},
     "nuid": "f6cb1185-8af0-458a-aab8-5858d642ef94",
     "showTitle": false,
     "tableResultSettingsMap": {},
     "title": ""
    }
   },
   "outputs": [],
   "source": [
    "from pyspark.sql import Row\n",
    "import random\n",
    "from datetime import datetime, timedelta\n",
    "from pyspark.sql.functions import to_date,col\n"
   ]
  },
  {
   "cell_type": "code",
   "execution_count": 0,
   "metadata": {
    "application/vnd.databricks.v1+cell": {
     "cellMetadata": {
      "byteLimit": 2048000,
      "rowLimit": 10000
     },
     "inputWidgets": {},
     "nuid": "c1d84aa0-78da-4a77-9fa7-3085fa32790e",
     "showTitle": false,
     "tableResultSettingsMap": {},
     "title": ""
    }
   },
   "outputs": [],
   "source": [
    "clientes = ['Juan', 'María', 'Carlos', 'Ana', 'Lucía',\"Stephanie\",\"Felipe\",\"Fernando\",\"Diego\",\"Humberto\",\"Marcelo\",\"Roberto\",\"Pedro\",]\n",
    "productos = ['Zapato', 'Remera', 'Pantalón', 'Gorra', 'Bufanda',\"Medias\",\"Saco\",\"Smoking\",\"Zapatillas\",\"Pijama\"]\n",
    "\n",
    "fecha_inicio = datetime(2025, 1, 1)\n",
    "filas = []\n",
    "\n",
    "for i in range(100):\n",
    "    fila = Row(\n",
    "        venta_id = i + 1,\n",
    "        cliente = random.choice(clientes),\n",
    "        producto = random.choice(productos),\n",
    "        cantidad = random.randint(1,5),\n",
    "        precio_unitario = random.randint(100,1000),\n",
    "        fecha_venta = fecha_inicio + timedelta(days=random.randint(0,180))\n",
    "    )\n",
    "    filas.append(fila)\n",
    "\n",
    "df_spark = spark.createDataFrame(filas)"
   ]
  },
  {
   "cell_type": "markdown",
   "metadata": {
    "application/vnd.databricks.v1+cell": {
     "cellMetadata": {
      "byteLimit": 2048000,
      "rowLimit": 10000
     },
     "inputWidgets": {},
     "nuid": "b949650e-c446-4033-b975-2bdd2c548515",
     "showTitle": false,
     "tableResultSettingsMap": {},
     "title": ""
    }
   },
   "source": [
    "### Transform date format"
   ]
  },
  {
   "cell_type": "code",
   "execution_count": 0,
   "metadata": {
    "application/vnd.databricks.v1+cell": {
     "cellMetadata": {
      "byteLimit": 2048000,
      "rowLimit": 10000
     },
     "inputWidgets": {},
     "nuid": "ac2d4add-da99-4003-a0f5-c2e595b1db79",
     "showTitle": false,
     "tableResultSettingsMap": {},
     "title": ""
    }
   },
   "outputs": [],
   "source": [
    "df_spark = df_spark.withColumn(\"fecha_venta\", to_date(col(\"fecha_venta\")))"
   ]
  },
  {
   "cell_type": "code",
   "execution_count": 0,
   "metadata": {
    "application/vnd.databricks.v1+cell": {
     "cellMetadata": {
      "byteLimit": 2048000,
      "rowLimit": 10000
     },
     "inputWidgets": {},
     "nuid": "ed30e13a-359a-455b-90cf-fa9d3c1026ac",
     "showTitle": false,
     "tableResultSettingsMap": {},
     "title": ""
    }
   },
   "outputs": [],
   "source": [
    "display(df_spark)"
   ]
  }
 ],
 "metadata": {
  "application/vnd.databricks.v1+notebook": {
   "computePreferences": null,
   "dashboards": [],
   "environmentMetadata": {
    "base_environment": "",
    "environment_version": "2"
   },
   "inputWidgetPreferences": null,
   "language": "python",
   "notebookMetadata": {
    "pythonIndentUnit": 4
   },
   "notebookName": "Data generator",
   "widgets": {}
  },
  "language_info": {
   "name": "python"
  }
 },
 "nbformat": 4,
 "nbformat_minor": 0
}
